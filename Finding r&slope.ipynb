{
 "cells": [
  {
   "cell_type": "code",
   "execution_count": 1,
   "metadata": {},
   "outputs": [
    {
     "name": "stdout",
     "output_type": "stream",
     "text": [
      "[-1.5999999999927184e-06] [1.600000000046009e-06]\n",
      "[-0.71, 1.51, -0.71, -0.16, -0.71, 0.4, 1.51, -0.71, 0.4, 0.4, 2.07, -0.16, -0.71, 2.07, 0.4, -0.71, 0.96, 0.4, -1.82, -0.71, -0.71, 0.4, -0.71, -0.71, -1.27]\n",
      "\n",
      "\n",
      "[-0.49, 1.14, -1.3, -1.3, -0.49, 1.14, 1.14, -0.49, -0.49, -0.49, 1.14, 2.76, 0.32, 1.14, -1.3, -0.49, -0.49, -0.49, -0.49, 0.32, -1.3, 1.14, 0.32, -0.49, -0.49]\n"
     ]
    }
   ],
   "source": [
    "# Finding if there is a corelation (r).\n",
    "data_1=[-0.71094, 1.51074, -0.71094, -0.15552, -0.71094, 0.3999, 1.51074, -0.71094,\\\n",
    "        0.3999, 0.3999, 2.06616, -0.15552, -0.71094, 2.06616, 0.3999, -0.71094, 0.95532,\\\n",
    "        0.3999, -1.82177, -0.71094, -0.71094, 0.3999, -0.71094, -0.71094, -1.26635]\n",
    "data_2= [-0.48666, 1.13555, -1.29777, -1.29777, -0.48666, 1.13555, 1.13555, -0.48666,\\\n",
    "         -0.48666, -0.48666, 1.13555, 2.75776, 0.32444, 1.13555, -1.29777, -0.48666,\\\n",
    "         -0.48666, -0.48666, -0.48666, 0.32444, -1.29777, 1.13555, 0.32444, -0.48666, -0.48666]\n",
    "\n",
    "len(data_1) == len(data_2)\n",
    "\n",
    "# subtract i from one list from the coresponding i in the other list.\n",
    "x= [data_1 - data_2 for data_1, data_2 in zip(data_1, data_2)]\n",
    "cleaned = sorted(x, key= int)\n",
    "\n",
    "mean_1= [sum(data_1)/len(data_1)]\n",
    "mean_2= [sum(data_2)/len(data_2)]\n",
    "print(mean_1, mean_2)\n",
    "\n",
    "# subtract the mean of one dataset to each item in the dataset, for each dataset, and add to another \n",
    "# list for further calculations.\n",
    "calc_1=[]\n",
    "calc_2=[]\n",
    "for b in mean_1:\n",
    "    for i in data_1:\n",
    "        deviation_1= i - b\n",
    "        deviations_1= round(deviation_1, 2)\n",
    "        calc_1.append(deviations_1)\n",
    "    print(calc_1)\n",
    "print(f'\\n')\n",
    "for b in mean_2:\n",
    "    for i in data_2:\n",
    "        deviation_2= i - b\n",
    "        deviations_2= round(deviation_2, 2)\n",
    "        calc_2.append(deviations_2)\n",
    "    print(calc_2)\n",
    "        "
   ]
  },
  {
   "cell_type": "code",
   "execution_count": 2,
   "metadata": {},
   "outputs": [
    {
     "name": "stdout",
     "output_type": "stream",
     "text": [
      "0.348\n",
      "1.721\n",
      "0.923\n",
      "0.208\n",
      "0.348\n",
      "0.456\n",
      "1.721\n",
      "0.348\n",
      "-0.196\n",
      "-0.196\n",
      "2.36\n",
      "-0.442\n",
      "-0.227\n",
      "2.36\n",
      "-0.52\n",
      "0.348\n",
      "-0.47\n",
      "-0.196\n",
      "0.892\n",
      "-0.227\n",
      "0.923\n",
      "0.456\n",
      "-0.227\n",
      "0.348\n",
      "0.622\n",
      "\n",
      "The sum of the deviations of the lists are:\n",
      " 11.680399999999997\n"
     ]
    }
   ],
   "source": [
    "# Multiply deviations of one list of deviations to another and add them together\n",
    "xy_1= [calc_1*calc_2 for calc_1, calc_2 in zip(calc_1, calc_2)]\n",
    "for i in xy_1:\n",
    "    xy= round(i, 3)\n",
    "    sumdev= sum(xy_1)\n",
    "    print(xy)\n",
    "print(f'\\nThe sum of the deviations of the lists are:\\n {sumdev}')"
   ]
  },
  {
   "cell_type": "code",
   "execution_count": 3,
   "metadata": {},
   "outputs": [
    {
     "name": "stdout",
     "output_type": "stream",
     "text": [
      "[0.5041, 2.2801, 0.5041, 0.0256, 0.5041, 0.16, 2.2801, 0.5041, 0.16, 0.16, 4.2849, 0.0256, 0.5041, 4.2849, 0.16, 0.5041, 0.9216, 0.16, 3.3124, 0.5041, 0.5041, 0.16, 0.5041, 0.5041, 1.6129]\n",
      "\n",
      "The sum of the squared deviations of data_1 is 25.029100000000007\n",
      "\n",
      "[0.2401, 1.2996, 1.69, 1.69, 0.2401, 1.2996, 1.2996, 0.2401, 0.2401, 0.2401, 1.2996, 7.6176, 0.1024, 1.2996, 1.69, 0.2401, 0.2401, 0.2401, 0.2401, 0.1024, 1.69, 1.2996, 0.1024, 0.2401, 0.2401]\n",
      "\n",
      "The sum of the squared deviations of data_2 is 25.123500000000014\n",
      "\n",
      "[628.8185938500005]\n",
      "25.076255578734248\n",
      "\n",
      "The correlation of r= 0.4658\n"
     ]
    }
   ],
   "source": [
    "# Square each item of deviations in each list and add them together\n",
    "sqsum1= []\n",
    "sqsum2= []\n",
    "\n",
    "for g in calc_1:\n",
    "    x_2=g**2\n",
    "    x2=round(x_2,4)\n",
    "    sqsum1.append(x2)\n",
    "print(f'{sqsum1}\\n')\n",
    "print(f'The sum of the squared deviations of data_1 is {sum(sqsum1)}\\n')\n",
    "for e in calc_2:\n",
    "    y_2=e**2\n",
    "    y2=round(y_2,4)\n",
    "    sqsum2.append(y2)\n",
    "print(f'{sqsum2}\\n')\n",
    "print(f'The sum of the squared deviations of data_2 is {sum(sqsum2)}\\n')\n",
    "# Multiply the summed values of both deviation lists and then take the square root of that answer\n",
    "ex2ey2= [sum(sqsum1)*sum(sqsum2)]\n",
    "print(ex2ey2)\n",
    "for i in ex2ey2:\n",
    "    sqex2ey2= i**.5\n",
    "    print(sqex2ey2)\n",
    "\n",
    "r= sumdev/sqex2ey2\n",
    "print(f'\\nThe correlation of r= {round(r, 5)}')"
   ]
  },
  {
   "cell_type": "code",
   "execution_count": 7,
   "metadata": {},
   "outputs": [
    {
     "name": "stdout",
     "output_type": "stream",
     "text": [
      "Standard deviation of Y: 0.9999982475291845\n",
      "Standard deviation of X: 1.0000015876174597\n",
      "The slope is 0.4657936648404676\n"
     ]
    }
   ],
   "source": [
    "# Slope\n",
    "def variance(data):\n",
    "    n= len(data)\n",
    "    mean= sum(data)/n\n",
    "    deviance=[(x-mean)**2 for x in data]\n",
    "    variance= sum(deviance)/n\n",
    "    return variance\n",
    "\n",
    "def stdev(data):\n",
    "    var= variance(data)\n",
    "    st_dev=var**.5\n",
    "    return st_dev\n",
    "\n",
    "Sy= stdev(data_2)\n",
    "Sx= stdev(data_1)\n",
    "b= r * (Sy/Sx)\n",
    "\n",
    "\n",
    "print(f'Standard deviation of Y: {stdev(data_2)}\\nStandard deviation of X: {stdev(data_1)}')\n",
    "print(f'The slope is {b}')"
   ]
  },
  {
   "cell_type": "code",
   "execution_count": null,
   "metadata": {},
   "outputs": [],
   "source": [
    "[23, 25, 28, 23, 26, 25, 31, 22, 22, 29, 24, 24, 29, 23, 17, 28,\\\n",
    "27, 15, 26, 15, 29, 29, 14, 16, 17, 21, 18, 26, 17, 22, 28, 27,\\\n",
    "21, 25, 21, 16, 24, 30, 22, 21, 22, 27, 30, 20, 27, 32, 24, 19,\\\n",
    "25, 17, 22, 15, 29, 28, 24, 32, 24, 21, 21, 27, 19, 25, 25, 20,\\\n",
    "31, 30, 27, 30, 27, 21, 24, 18, 18, 18, 30, 29, 20, 24]\n",
    "\n",
    "[18, 14, 13, 17, 16, 16, 12, 13, 16, 12, 12, 17, 18, 27, 18, 9,\\\n",
    "13, 20, 16, 23, 12, 15, 26, 17, 20, 9, 24, 12, 23, 14, 23, 13,\\\n",
    "18, 11, 15, 20, 11, 16, 11, 15, 17, 18, 16, 14, 18, 11, 12, 18,\\\n",
    "21, 22, 22, 26, 11, 17, 16, 9, 11, 17, 13, 18, 19, 15, 15, 18,\\\n",
    "12, 15, 14, 14, 15, 21, 18, 17, 24, 14, 10, 11, 15, 15]"
   ]
  }
 ],
 "metadata": {
  "kernelspec": {
   "display_name": "Python 3",
   "language": "python",
   "name": "python3"
  },
  "language_info": {
   "codemirror_mode": {
    "name": "ipython",
    "version": 3
   },
   "file_extension": ".py",
   "mimetype": "text/x-python",
   "name": "python",
   "nbconvert_exporter": "python",
   "pygments_lexer": "ipython3",
   "version": "3.7.4"
  }
 },
 "nbformat": 4,
 "nbformat_minor": 2
}
