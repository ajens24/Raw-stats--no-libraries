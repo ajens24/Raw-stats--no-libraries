{
 "cells": [
  {
   "cell_type": "code",
   "execution_count": null,
   "metadata": {},
   "outputs": [],
   "source": [
    "def word_count(file_name):\n",
    "    \"\"\"Count the number of words in a file\"\"\"\n",
    "    try:\n",
    "        with open(file_name, encoding= 'utf-8') as f:\n",
    "            contents= f.read()\n",
    "    except FileNotFoundError:\n",
    "            print(f\"Sorry, the file {file_name} does not exist.\")\n",
    "    else:\n",
    "        words= contents.split()\n",
    "        num_words= len(words)\n",
    "        print(f\" The file {file_name} has about {num_words} words.\")"
   ]
  }
 ],
 "metadata": {
  "kernelspec": {
   "display_name": "Python 3 (ipykernel)",
   "language": "python",
   "name": "python3"
  },
  "language_info": {
   "codemirror_mode": {
    "name": "ipython",
    "version": 3
   },
   "file_extension": ".py",
   "mimetype": "text/x-python",
   "name": "python",
   "nbconvert_exporter": "python",
   "pygments_lexer": "ipython3",
   "version": "3.7.4"
  }
 },
 "nbformat": 4,
 "nbformat_minor": 2
}
